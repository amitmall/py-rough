{
 "cells": [
  {
   "cell_type": "code",
   "execution_count": 2,
   "metadata": {},
   "outputs": [],
   "source": [
    "import numpy as np\n",
    "import pandas as pd\n",
    "import matplotlib.pyplot as plt\n",
    "from sklearn.model_selection import train_test_split\n",
    "from sklearn.datasets import load_iris"
   ]
  },
  {
   "cell_type": "markdown",
   "metadata": {},
   "source": [
    "**Load Data set**"
   ]
  },
  {
   "cell_type": "code",
   "execution_count": 11,
   "metadata": {},
   "outputs": [
    {
     "name": "stdout",
     "output_type": "stream",
     "text": [
      "(150, 4)\n",
      "(150,)\n"
     ]
    }
   ],
   "source": [
    "# Load Iris Dataset\n",
    "data = load_iris()\n",
    "\n",
    "# Get features and target\n",
    "X = data.data\n",
    "y = data.target\n",
    "\n",
    "print(X.shape)\n",
    "print(y.shape)"
   ]
  },
  {
   "cell_type": "code",
   "execution_count": 5,
   "metadata": {},
   "outputs": [
    {
     "name": "stdout",
     "output_type": "stream",
     "text": [
      "[[5.1 3.5 1.4 0.2]\n",
      " [4.9 3.  1.4 0.2]\n",
      " [4.7 3.2 1.3 0.2]\n",
      " [4.6 3.1 1.5 0.2]\n",
      " [5.  3.6 1.4 0.2]]\n",
      "[0 0 0 0 0 0 0 0 0 0 0 0 0 0 0 0 0 0 0 0 0 0 0 0 0 0 0 0 0 0 0 0 0 0 0 0 0\n",
      " 0 0 0 0 0 0 0 0 0 0 0 0 0 1 1 1 1 1 1 1 1 1 1 1 1 1 1 1 1 1 1 1 1 1 1 1 1\n",
      " 1 1 1 1 1 1 1 1 1 1 1 1 1 1 1 1 1 1 1 1 1 1 1 1 1 1 2 2 2 2 2 2 2 2 2 2 2\n",
      " 2 2 2 2 2 2 2 2 2 2 2 2 2 2 2 2 2 2 2 2 2 2 2 2 2 2 2 2 2 2 2 2 2 2 2 2 2\n",
      " 2 2]\n"
     ]
    }
   ],
   "source": [
    "print(X[:5])\n",
    "print(y)"
   ]
  },
  {
   "cell_type": "code",
   "execution_count": 10,
   "metadata": {},
   "outputs": [
    {
     "name": "stdout",
     "output_type": "stream",
     "text": [
      "[[ True False False]\n",
      " [ True False False]\n",
      " [ True False False]]\n"
     ]
    }
   ],
   "source": [
    "# Get dummy variable \n",
    "y = pd.get_dummies(y).values\n",
    "\n",
    "print(y[:3])"
   ]
  },
  {
   "cell_type": "code",
   "execution_count": 12,
   "metadata": {},
   "outputs": [],
   "source": [
    "def sigmoid(x):\n",
    "    return 1 / (1 + np.exp(-x))\n",
    "\n",
    "def sigmoid_derivative(x):\n",
    "    return x * (1 - x)"
   ]
  },
  {
   "cell_type": "code",
   "execution_count": 15,
   "metadata": {},
   "outputs": [],
   "source": [
    "class NeuralNetwork:\n",
    "    def __init__(self, x, y):\n",
    "        self.input = x\n",
    "        self.weights1 = np.random.rand(self.input.shape[1], 4)  # 4 nodes in the hidden layer\n",
    "        self.bias1 = np.random.rand(1, 4)  # Bias for the hidden layer\n",
    "        self.weights2 = np.random.rand(4, 1)  # 1 output node\n",
    "        self.bias2 = np.random.rand(1, 1)  # Bias for the output layer\n",
    "        self.y = y\n",
    "        self.output = np.zeros(y.shape)\n",
    "\n",
    "    def feedforward(self):\n",
    "        self.layer1 = sigmoid(np.dot(self.input, self.weights1) + self.bias1)\n",
    "        self.output = sigmoid(np.dot(self.layer1, self.weights2) + self.bias2)\n",
    "\n",
    "    def backpropagation(self):\n",
    "        # Calculate the derivative of the loss function with respect to weights and biases\n",
    "        d_weights2 = np.dot(self.layer1.T, (2 * (self.y - self.output) * sigmoid_derivative(self.output)))\n",
    "        d_bias2 = np.sum(2 * (self.y - self.output) * sigmoid_derivative(self.output), axis=0, keepdims=True)\n",
    "        \n",
    "        d_weights1 = np.dot(\n",
    "            self.input.T,\n",
    "            (\n",
    "                np.dot(2 * (self.y - self.output) * sigmoid_derivative(self.output), self.weights2.T) * \n",
    "                sigmoid_derivative(self.layer1)\n",
    "            ))\n",
    "        d_bias1 = np.sum(\n",
    "            np.dot(2 * (self.y - self.output) * sigmoid_derivative(self.output), self.weights2.T) *\n",
    "                sigmoid_derivative(self.layer1),\n",
    "            axis=0, \n",
    "            keepdims=True)\n",
    "\n",
    "        # Update the weights and biases\n",
    "        self.weights1 += d_weights1\n",
    "        self.bias1 += d_bias1\n",
    "        self.weights2 += d_weights2\n",
    "        self.bias2 += d_bias2"
   ]
  },
  {
   "cell_type": "code",
   "execution_count": 16,
   "metadata": {},
   "outputs": [
    {
     "name": "stdout",
     "output_type": "stream",
     "text": [
      "[[0.01954729]\n",
      " [0.97371976]\n",
      " [0.98283312]\n",
      " [0.0240839 ]]\n"
     ]
    }
   ],
   "source": [
    "X = np.array([[0, 0],\n",
    "                [0, 1],\n",
    "                [1, 0],\n",
    "                [1, 1]])\n",
    "y = np.array([[0], [1], [1], [0]])\n",
    "\n",
    "nn = NeuralNetwork(X, y)\n",
    "\n",
    "for i in range(1500):  # Number of epochs\n",
    "    nn.feedforward()\n",
    "    nn.backpropagation()\n",
    "\n",
    "print(nn.output)\n"
   ]
  }
 ],
 "metadata": {
  "kernelspec": {
   "display_name": "venv",
   "language": "python",
   "name": "python3"
  },
  "language_info": {
   "codemirror_mode": {
    "name": "ipython",
    "version": 3
   },
   "file_extension": ".py",
   "mimetype": "text/x-python",
   "name": "python",
   "nbconvert_exporter": "python",
   "pygments_lexer": "ipython3",
   "version": "3.11.4"
  }
 },
 "nbformat": 4,
 "nbformat_minor": 2
}
