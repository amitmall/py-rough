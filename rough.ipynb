{
 "cells": [
  {
   "cell_type": "code",
   "execution_count": 1,
   "metadata": {},
   "outputs": [
    {
     "name": "stdout",
     "output_type": "stream",
     "text": [
      "Hello world\n"
     ]
    },
    {
     "name": "stderr",
     "output_type": "stream",
     "text": [
      "Bad pipe message: %s [b'o\\r\\nUser-Agent: Mozilla/5.0 (Macintosh; Intel ', b'c OS X 10_15_7) AppleWebKit/537.36 (KHTML, like Gecko) Chrome/119.0.0.0 Safa', b'/537.36\\r\\nAccept: text/html,application/xhtml+xml,application/xml;q=0.9,image/avif,image/webp,image/apng,*/*;q=0.8', b'pplication/signed-exchange;v=b3;q=0.7\\r\\nAcce', b'-Encoding: gzip, deflate, br\\r\\nAccept-Language: en-US,en;q=0.9,hi;q=0.8\\r\\nCookie: gitpod-user=true\\r\\nReferer: http']\n",
      "Bad pipe message: %s [b'//amitmall-pyrough-1gthi80ewjj.ws-us106.gitpod.io/\\r\\nSec-Ch-Ua: \"Google Chrome\";v=\"119\", \"Chromium\";v=\"119\", \"Not?A']\n",
      "Bad pipe message: %s [b'rand\";v=\"24\"\\r\\nSec-Ch-Ua-Mobile: ?0\\r\\nSec-Ch-Ua-Platform: \"macOS\"\\r\\nSec-Fetch-Dest: document\\r\\nSec']\n",
      "Bad pipe message: %s [b'etch-Mode: navigate\\r\\nSec-Fetch-Site: same-si']\n",
      "Bad pipe message: %s [b'ugh-1gthi80ewjj.ws-us106.gitpod.io\\r\\nUser-Agent: Mozilla/5.0 (Macintosh; Intel Mac OS X 10_15_7) AppleWebKit/537.3', b'(KHTML, like Gecko) Chrome/119.0.0.0 Safari/537.36\\r\\nA']\n",
      "Bad pipe message: %s [b'ept: text/html,application/xhtml+xml,application/xml;q=0.9,image/avif,image/webp,image/apng,*/*;q=', b'8,application/signed-exchange;v=b3;q=0.7\\r\\nAccep']\n",
      "Bad pipe message: %s [b'Encoding: gzip, deflate, br\\r\\nAccept-Language: en-US,en;q=0.9,hi;q=0.8\\r\\nCookie: gitpod-user=true\\r\\nReferer: https://1', b'3v38jog45ujqmdoomhejk9sd5vdq60vqah1ghv6j8j3e7unrk.ws-us106.gitpod.io/eu.gcr.io/gitpod-core-dev/build/ide/code:commit-']\n",
      "Bad pipe message: %s [b'b09152fc5248f5b99b33b4d8a7f101aa082441/__files__/o']\n",
      "Bad pipe message: %s [b'/vs/workbench/contrib/webview/browser/pre/index.html?id=826b42af-3d0a-4a13-b7cb-ac80dd82c04e&origin=ef8039fc-bb59-4a']\n",
      "Bad pipe message: %s [b'-bac0-d749940fa911&swVersion=4&extensionId=vscode.simple-browser&platform=browser&vscode-resource-ba', b'-authority=vscode-resource.gitpod.io&parentOrigin=https%3A%2F%2Famitmall-pyrough-1gthi80ewjj.ws-us106.gitpod.io&re', b'teAuthority=amitmall-pyrough-1gthi80ewjj.ws-us106.gitpod.io\\r\\nSec-Ch-Ua: \"Google Chrome\";v=\"119\", \"Chromium\";', b'\"119\", \"Not?A_Brand\";v=\"24\"\\r\\nSec-Ch-Ua-Mobile: ?0\\r\\nSec-Ch-Ua-Platform: \"macOS\"\\r\\nSec-Fetch-Dest: iframe\\r\\nSec-Fetch-Mod', b' navigate\\r\\nSec-Fetch-Site: same-site\\r\\nUpgrade-Insecure-Requests: 1\\r\\nX-Forwarded-For: 136.226.244.192']\n",
      "Bad pipe message: %s [b'X-Forwarded-']\n",
      "Bad pipe message: %s [b'ugh-1gthi80ewjj.ws-us106.gitpod.io\\r\\nUser-Agent: Mozilla/5.0 (Macintosh; Intel Mac OS X 10_15_7) AppleWebKit/537.3', b'(KHTML, like Gecko) Chrome/119.0.0.0 Safari/537.36\\r\\nA']\n",
      "Bad pipe message: %s [b'ept: text/html,application/xhtml+xml,application/xml;q=0.9,image/avif,image/webp,image/apng,*/*;q=', b'8,application/signed-exchange;v=b3;q=0.7\\r\\nAccep']\n",
      "Bad pipe message: %s [b'Encoding: gzip, deflate, br\\r\\nAccept-Language: en-US,en;q=0.9,hi;q=0.8\\r\\nCookie: gitpod-user=true\\r\\nReferer: https://1', b'3v38jog45ujqmdoomhejk9sd5vdq60vqah1ghv6j8j3e7unrk.ws-us106.gitpod.io/eu.gcr.io/gitpod-core-dev/build/ide/code:commit-']\n",
      "Bad pipe message: %s [b'b09152fc5248f5b99b33b4d8a7f101aa082441/__files__/o']\n",
      "Bad pipe message: %s [b'/vs/workbench/contrib/webview/browser/pre/index.html?id=826b42af-3d0a-4a13-b7cb-ac80dd82c04e&origin=ef8039fc-bb59-4a']\n",
      "Bad pipe message: %s [b'-bac0-d749940fa911&swVersion=4&extensionId=vscode.simple-browser&platform=browser&vscode-resource-ba', b'-authority=vscode-resource.gitpod.io&parentOrigin=https%3A%2F%2Famitmall-pyrough-1gthi80ewjj.ws-us106.gitpod.io&re', b'teAuthority=amitmall-pyrough-1gthi80ewjj.ws-us106.gitpod.io\\r\\nSec-Ch-Ua: \"Google Chrome\";v=\"119\", \"Chromium\";', b'\"119\", \"Not?A_Brand\";v=\"24\"\\r\\nSec-Ch-Ua-Mobile: ?0\\r\\nSec-Ch-Ua-Platform: \"macOS\"\\r\\nSec-Fetch-Dest: iframe\\r\\nSec-Fetch-Mod', b' navigate\\r\\nSec-Fetch-Site: same-site\\r\\nSec-Fetch-User: ?1\\r\\nUpgrade-Insecure-Requests: 1\\r\\nX-Forwarded-']\n",
      "Bad pipe message: %s [b'ugh-1gthi80ewjj.ws-us106.gitpod.io\\r\\nUser-Agent: Mozilla/5.0 (Macintosh; Intel Mac OS X 10_15_7) AppleWebKit/537.3', b'(KHTML, like Gecko) Chrome/119.0.0.0 Safari/537.36\\r\\nA']\n",
      "Bad pipe message: %s [b'ept: text/html,application/xhtml+xml,application/xml;q=0.9,image/avif,image/webp,image/apng,*/*;q=', b'8,application/signed-exchange;v=b3;q=0.7\\r\\nAccep']\n",
      "Bad pipe message: %s [b'Encoding: gzip, deflate, br\\r\\nAccept-Language: en-US,en;q=0.9,hi;q=0.8\\r\\nCache-Control: max-age=0\\r\\nCookie: gitpod-use', b'true\\r\\nReferer: https://46703-amitmall-pyrough-1gthi80ewjj.ws-us106.gitpod.io/?vscodeBrowserReqId=1700720254103\\r\\nS', b'-Ch-Ua: \"Google Chrome\";v=\"119\", \"Chromium\";v=\"119\", \"Not?A_Brand\";v=\"24\"\\r\\nSec-Ch-Ua-Mobile: ?0\\r\\nSec', b'h-Ua-Platform: \"macOS\"\\r\\nSec-Fetch-Dest: ifra', b'\\r\\nSec-Fetch-Mode: navigate\\r\\nSec-Fetch-Site: same-origin\\r\\nUpgrade-Insecure-Requests: 1\\r\\nX-Forwarded-For: 136.', b'6.244.192\\r\\nX-Forwarded-Host: 46703-amitmall-pyrou']\n"
     ]
    }
   ],
   "source": [
    "print(\"Hello world\")"
   ]
  }
 ],
 "metadata": {
  "kernelspec": {
   "display_name": "Python 3",
   "language": "python",
   "name": "python3"
  },
  "language_info": {
   "codemirror_mode": {
    "name": "ipython",
    "version": 3
   },
   "file_extension": ".py",
   "mimetype": "text/x-python",
   "name": "python",
   "nbconvert_exporter": "python",
   "pygments_lexer": "ipython3",
   "version": "3.12.0"
  }
 },
 "nbformat": 4,
 "nbformat_minor": 2
}
